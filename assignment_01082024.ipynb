{
 "cells": [
  {
   "cell_type": "markdown",
   "metadata": {},
   "source": [
    "# AUTHOR: T1 TIDE"
   ]
  },
  {
   "cell_type": "markdown",
   "metadata": {},
   "source": [
    "## Create Spark"
   ]
  },
  {
   "cell_type": "markdown",
   "metadata": {},
   "source": [
    "### Import Libraries"
   ]
  },
  {
   "cell_type": "code",
   "execution_count": 1,
   "metadata": {},
   "outputs": [],
   "source": [
    "from pyspark.sql import SparkSession\n",
    "from pyspark import SparkConf, SparkContext\n",
    "from pyspark.sql import functions as func"
   ]
  },
  {
   "cell_type": "markdown",
   "metadata": {},
   "source": [
    "### Spark Conf"
   ]
  },
  {
   "cell_type": "code",
   "execution_count": 2,
   "metadata": {},
   "outputs": [],
   "source": [
    "conf=   SparkConf()\\\n",
    "        .setAppName(\"YourAppName\")\\\n",
    "        .setMaster(\"spark://10.88.51.122:7077\") \\\n",
    "        .set(\"spark.dynamicAllocation.enabled\", \"true\") \\\n",
    "        .set(\"spark.dynamicAllocation.minExecutors\", \"5\") \\\n",
    "        .set(\"spark.dynamicAllocation.maxExecutors\", \"10\") \\\n",
    "        .set(\"spark.dynamicAllocation.initialExecutors\", \"5\") \\\n",
    "        .set(\"spark.sql.shuffle.partitions\", \"40\") \\\n",
    "        .set(\"spark.sql.autoBroadcastJoinThreshold\", \"104857600\")\n",
    "                \n",
    "        # .set(\"spark.executor.instances\", \"5\") \\\n",
    "        # .set(\"spark.executor.memory\", \"6g\") \\\n",
    "        # .set(\"spark.driver.memory\", \"4g\") \\\n",
    "        # .set(\"spark.driver.cores\", \"4\") \\\n",
    "# .set(\"spark.executor.instances\", \"48\")\n",
    "        # .set(\"spark.driver.memory\", \"16g\")\\"
   ]
  },
  {
   "cell_type": "code",
   "execution_count": 3,
   "metadata": {},
   "outputs": [],
   "source": [
    "spark = SparkSession.builder.appName(\"test\")\\\n",
    "                    .master(\"spark://10.88.51.122:7077\") \\\n",
    "                    .config(conf=conf)\\\n",
    "                    .getOrCreate()"
   ]
  },
  {
   "cell_type": "code",
   "execution_count": 3,
   "metadata": {},
   "outputs": [],
   "source": [
    "# conf = SparkConf().setAppName(\"Assignment 25072024\")\\\n",
    "#                     .setMaster(\"local[*]\") \\\n",
    "\n",
    "#                     .set(\"spark.driver.memory\", \"4g\") \\\n",
    "#                     .set(\"spark.driver.cores\",\"5\")"
   ]
  },
  {
   "cell_type": "markdown",
   "metadata": {},
   "source": [
    "### SparkSession"
   ]
  },
  {
   "cell_type": "code",
   "execution_count": 3,
   "metadata": {},
   "outputs": [],
   "source": [
    "spark = SparkSession.builder \\\n",
    "                    .config(conf=conf) \\\n",
    "                    .getOrCreate()"
   ]
  },
  {
   "cell_type": "markdown",
   "metadata": {},
   "source": [
    "### SparkContext"
   ]
  },
  {
   "cell_type": "code",
   "execution_count": 3,
   "metadata": {},
   "outputs": [],
   "source": [
    "sc = SparkContext(conf=conf)"
   ]
  },
  {
   "cell_type": "code",
   "execution_count": 4,
   "metadata": {},
   "outputs": [],
   "source": [
    "sc = spark.sparkContext"
   ]
  },
  {
   "cell_type": "markdown",
   "metadata": {},
   "source": [
    "## Exercise 1\n",
    "- Given a dataset of 1000 arbitrary numbers in a text file\n",
    "- Find all prime numbers in the given dataset\n",
    "- Save result under a new text file"
   ]
  },
  {
   "cell_type": "markdown",
   "metadata": {},
   "source": [
    "### Check Prime number function"
   ]
  },
  {
   "cell_type": "code",
   "execution_count": 4,
   "metadata": {},
   "outputs": [],
   "source": [
    "from math import sqrt,ceil\n",
    "def is_prime(n):\n",
    "    if n <= 1:\n",
    "        return False\n",
    "    for i in range(2,ceil(sqrt(n))+1):\n",
    "        if n%i == 0:\n",
    "            return False\n",
    "    return True"
   ]
  },
  {
   "cell_type": "markdown",
   "metadata": {},
   "source": [
    "### No random"
   ]
  },
  {
   "cell_type": "markdown",
   "metadata": {},
   "source": [
    "#### Generate 10.000.000 number list sorted"
   ]
  },
  {
   "cell_type": "code",
   "execution_count": 5,
   "metadata": {},
   "outputs": [],
   "source": [
    "numbers_file = \"input_data/numbers.txt\""
   ]
  },
  {
   "cell_type": "code",
   "execution_count": 7,
   "metadata": {},
   "outputs": [],
   "source": [
    "# import random\n",
    "# numbers = [random.randint(1, 100000000) for _ in range(10000000)]\n",
    "numbers = list(range(1,10000001))\n",
    "# numbers = [number for number in range(1,100000001)]\n",
    "with open(numbers_file,'w+') as file:\n",
    "    for number in numbers:\n",
    "        file.write(f\"{number}\\n\")\n",
    "    file.close()"
   ]
  },
  {
   "cell_type": "code",
   "execution_count": 7,
   "metadata": {},
   "outputs": [
    {
     "ename": "NameError",
     "evalue": "name 'numbers' is not defined",
     "output_type": "error",
     "traceback": [
      "\u001b[1;31m---------------------------------------------------------------------------\u001b[0m",
      "\u001b[1;31mNameError\u001b[0m                                 Traceback (most recent call last)",
      "Cell \u001b[1;32mIn[7], line 1\u001b[0m\n\u001b[1;32m----> 1\u001b[0m \u001b[38;5;28mlen\u001b[39m(\u001b[43mnumbers\u001b[49m)\n",
      "\u001b[1;31mNameError\u001b[0m: name 'numbers' is not defined"
     ]
    }
   ],
   "source": [
    "len(numbers)"
   ]
  },
  {
   "cell_type": "markdown",
   "metadata": {},
   "source": [
    "#### RDD"
   ]
  },
  {
   "cell_type": "code",
   "execution_count": 6,
   "metadata": {},
   "outputs": [],
   "source": [
    "prime_numbers_rdd_output_path = \"output_data/prime_numbers_rdd.txt\""
   ]
  },
  {
   "cell_type": "code",
   "execution_count": 7,
   "metadata": {},
   "outputs": [],
   "source": [
    "numbers_rdd = sc.textFile(numbers_file)"
   ]
  },
  {
   "cell_type": "code",
   "execution_count": 8,
   "metadata": {},
   "outputs": [],
   "source": [
    "numbers_rdd = numbers_rdd.map(lambda x: int(x))"
   ]
  },
  {
   "cell_type": "code",
   "execution_count": 9,
   "metadata": {},
   "outputs": [],
   "source": [
    "prime_numbers_rdd = numbers_rdd.filter(is_prime)"
   ]
  },
  {
   "cell_type": "code",
   "execution_count": 10,
   "metadata": {},
   "outputs": [],
   "source": [
    "prime_numbers_rdd = prime_numbers_rdd.repartition(32)"
   ]
  },
  {
   "cell_type": "code",
   "execution_count": 11,
   "metadata": {},
   "outputs": [
    {
     "data": {
      "text/plain": [
       "32"
      ]
     },
     "execution_count": 11,
     "metadata": {},
     "output_type": "execute_result"
    }
   ],
   "source": [
    "prime_numbers_rdd.getNumPartitions()"
   ]
  },
  {
   "cell_type": "code",
   "execution_count": 12,
   "metadata": {},
   "outputs": [],
   "source": [
    "prime_numbers_rdd.take(10)"
   ]
  },
  {
   "cell_type": "code",
   "execution_count": 12,
   "metadata": {},
   "outputs": [
    {
     "data": {
      "text/plain": [
       "[1531,\n",
       " 1543,\n",
       " 1549,\n",
       " 1553,\n",
       " 1559,\n",
       " 1567,\n",
       " 1571,\n",
       " 1579,\n",
       " 1583,\n",
       " 1597,\n",
       " 4079,\n",
       " 4091,\n",
       " 4093,\n",
       " 4099,\n",
       " 4111,\n",
       " 4127,\n",
       " 4129,\n",
       " 4133,\n",
       " 4139,\n",
       " 4153,\n",
       " 6857,\n",
       " 6863,\n",
       " 6869,\n",
       " 6871,\n",
       " 6883,\n",
       " 6899,\n",
       " 6907,\n",
       " 6911,\n",
       " 6917,\n",
       " 6947,\n",
       " 9743,\n",
       " 9749,\n",
       " 9767,\n",
       " 9769,\n",
       " 9781,\n",
       " 9787,\n",
       " 9791,\n",
       " 9803,\n",
       " 9811,\n",
       " 9817,\n",
       " 12757,\n",
       " 12763,\n",
       " 12781,\n",
       " 12791,\n",
       " 12799,\n",
       " 12809,\n",
       " 12821,\n",
       " 12823,\n",
       " 12829,\n",
       " 12841,\n",
       " 15791,\n",
       " 15797,\n",
       " 15803,\n",
       " 15809,\n",
       " 15817,\n",
       " 15823,\n",
       " 15859,\n",
       " 15877,\n",
       " 15881,\n",
       " 15887,\n",
       " 19031,\n",
       " 19037,\n",
       " 19051,\n",
       " 19069,\n",
       " 19073,\n",
       " 19079,\n",
       " 19081,\n",
       " 19087,\n",
       " 19121,\n",
       " 19139,\n",
       " 22133,\n",
       " 22147,\n",
       " 22153,\n",
       " 22157,\n",
       " 22159,\n",
       " 22171,\n",
       " 22189,\n",
       " 22193,\n",
       " 22229,\n",
       " 22247,\n",
       " 25411,\n",
       " 25423,\n",
       " 25439,\n",
       " 25447,\n",
       " 25453,\n",
       " 25457,\n",
       " 25463,\n",
       " 25469,\n",
       " 25471,\n",
       " 25523,\n",
       " 28661,\n",
       " 28663,\n",
       " 28669,\n",
       " 28687,\n",
       " 28697,\n",
       " 28703,\n",
       " 28711,\n",
       " 28723,\n",
       " 28729,\n",
       " 28751,\n",
       " 32077,\n",
       " 32083,\n",
       " 32089,\n",
       " 32099,\n",
       " 32117,\n",
       " 32119,\n",
       " 32141,\n",
       " 32143,\n",
       " 32159,\n",
       " 32173,\n",
       " 35317,\n",
       " 35323,\n",
       " 35327,\n",
       " 35339,\n",
       " 35353,\n",
       " 35363,\n",
       " 35381,\n",
       " 35393,\n",
       " 35401,\n",
       " 35407,\n",
       " 38729,\n",
       " 38737,\n",
       " 38747,\n",
       " 38749,\n",
       " 38767,\n",
       " 38783,\n",
       " 38791,\n",
       " 38803,\n",
       " 38821,\n",
       " 38833,\n",
       " 42089,\n",
       " 42101,\n",
       " 42131,\n",
       " 42139,\n",
       " 42157,\n",
       " 42169,\n",
       " 42179,\n",
       " 42181,\n",
       " 42187,\n",
       " 42193,\n",
       " 45553,\n",
       " 45557,\n",
       " 45569,\n",
       " 45587,\n",
       " 45589,\n",
       " 45599,\n",
       " 45613,\n",
       " 45631,\n",
       " 45641,\n",
       " 45659,\n",
       " 49043,\n",
       " 49057,\n",
       " 49069,\n",
       " 49081,\n",
       " 49103,\n",
       " 49109,\n",
       " 49117,\n",
       " 49121,\n",
       " 49123,\n",
       " 49139,\n",
       " 52517,\n",
       " 52529,\n",
       " 52541,\n",
       " 52543,\n",
       " 52553,\n",
       " 52561,\n",
       " 52567,\n",
       " 52571,\n",
       " 52579,\n",
       " 52583,\n",
       " 55987,\n",
       " 55997,\n",
       " 56003,\n",
       " 56009,\n",
       " 56039,\n",
       " 56041,\n",
       " 56053,\n",
       " 56081,\n",
       " 56087,\n",
       " 56093,\n",
       " 59377,\n",
       " 59387,\n",
       " 59393,\n",
       " 59399,\n",
       " 59407,\n",
       " 59417,\n",
       " 59419,\n",
       " 59441,\n",
       " 59443,\n",
       " 59447,\n",
       " 63031,\n",
       " 63059,\n",
       " 63067,\n",
       " 63073,\n",
       " 63079,\n",
       " 63097,\n",
       " 63103,\n",
       " 63113,\n",
       " 63127,\n",
       " 63131,\n",
       " 66617,\n",
       " 66629,\n",
       " 66643,\n",
       " 66653,\n",
       " 66683,\n",
       " 66697,\n",
       " 66701,\n",
       " 66713,\n",
       " 66721,\n",
       " 66733,\n",
       " 70237,\n",
       " 70241,\n",
       " 70249,\n",
       " 70271,\n",
       " 70289,\n",
       " 70297,\n",
       " 70309,\n",
       " 70313,\n",
       " 70321,\n",
       " 70327,\n",
       " 73751,\n",
       " 73757,\n",
       " 73771,\n",
       " 73783,\n",
       " 73819,\n",
       " 73823,\n",
       " 73847,\n",
       " 73849,\n",
       " 73859,\n",
       " 73867,\n",
       " 77369,\n",
       " 77377,\n",
       " 77383,\n",
       " 77417,\n",
       " 77419,\n",
       " 77431,\n",
       " 77447,\n",
       " 77471,\n",
       " 77477,\n",
       " 77479,\n",
       " 80933,\n",
       " 80953,\n",
       " 80963,\n",
       " 80989,\n",
       " 81001,\n",
       " 81013,\n",
       " 81017,\n",
       " 81019,\n",
       " 81023,\n",
       " 81031,\n",
       " 84533,\n",
       " 84551,\n",
       " 84559,\n",
       " 84589,\n",
       " 84629,\n",
       " 84631,\n",
       " 84649,\n",
       " 84653,\n",
       " 84659,\n",
       " 84673,\n",
       " 88289,\n",
       " 88301,\n",
       " 88321,\n",
       " 88327,\n",
       " 88337,\n",
       " 88339,\n",
       " 88379,\n",
       " 88397,\n",
       " 88411,\n",
       " 88423,\n",
       " 91951,\n",
       " 91957,\n",
       " 91961,\n",
       " 91967,\n",
       " 91969,\n",
       " 91997,\n",
       " 92003,\n",
       " 92009,\n",
       " 92033,\n",
       " 92041,\n",
       " 95461,\n",
       " 95467,\n",
       " 95471,\n",
       " 95479,\n",
       " 95483,\n",
       " 95507,\n",
       " 95527,\n",
       " 95531,\n",
       " 95539,\n",
       " 95549,\n",
       " 99173,\n",
       " 99181,\n",
       " 99191,\n",
       " 99223,\n",
       " 99233,\n",
       " 99241,\n",
       " 99251,\n",
       " 99257,\n",
       " 99259,\n",
       " 99277,\n",
       " 102841,\n",
       " 102859,\n",
       " 102871,\n",
       " 102877,\n",
       " 102881,\n",
       " 102911,\n",
       " 102913,\n",
       " 102929,\n",
       " 102931,\n",
       " 102953,\n",
       " 106649,\n",
       " 106657,\n",
       " 106661,\n",
       " 106663,\n",
       " 106669,\n",
       " 106681,\n",
       " 106693,\n",
       " 106699,\n",
       " 106703,\n",
       " 106721,\n",
       " 110437,\n",
       " 110441,\n",
       " 110459,\n",
       " 110477,\n",
       " 110479,\n",
       " 110491,\n",
       " 110501,\n",
       " 110503,\n",
       " 110527,\n",
       " 110533,\n",
       " 114157,\n",
       " 114161,\n",
       " 114167,\n",
       " 114193,\n",
       " 114197,\n",
       " 114199,\n",
       " 114203,\n",
       " 114217,\n",
       " 114221,\n",
       " 114229,\n",
       " 117877,\n",
       " 117881,\n",
       " 117883,\n",
       " 117889,\n",
       " 117899,\n",
       " 117911,\n",
       " 117917,\n",
       " 117937,\n",
       " 117959,\n",
       " 117973,\n",
       " 121571,\n",
       " 121577,\n",
       " 121579,\n",
       " 121591,\n",
       " 121607,\n",
       " 121609,\n",
       " 121621,\n",
       " 121631,\n",
       " 121633,\n",
       " 121637,\n",
       " 125311,\n",
       " 125329,\n",
       " 125339,\n",
       " 125353,\n",
       " 125371,\n",
       " 125383,\n",
       " 125387,\n",
       " 125399,\n",
       " 125407,\n",
       " 125423,\n",
       " 129061,\n",
       " 129083,\n",
       " 129089,\n",
       " 129097,\n",
       " 129113,\n",
       " 129119,\n",
       " 129121,\n",
       " 129127,\n",
       " 129169,\n",
       " 129187,\n",
       " 132859,\n",
       " 132863,\n",
       " 132887,\n",
       " 132893,\n",
       " 132911,\n",
       " 132929,\n",
       " 132947,\n",
       " 132949,\n",
       " 132953,\n",
       " 132961,\n",
       " 136559,\n",
       " 136573,\n",
       " 136601,\n",
       " 136603,\n",
       " 136607,\n",
       " 136621,\n",
       " 136649,\n",
       " 136651,\n",
       " 136657,\n",
       " 136691,\n",
       " 140407,\n",
       " 140411,\n",
       " 140417,\n",
       " 140419,\n",
       " 140423,\n",
       " 140443,\n",
       " 140449,\n",
       " 140453,\n",
       " 140473,\n",
       " 140477,\n",
       " 144259,\n",
       " 144271,\n",
       " 144289,\n",
       " 144299,\n",
       " 144307,\n",
       " 144311,\n",
       " 144323,\n",
       " 144341,\n",
       " 144349,\n",
       " 144379,\n",
       " 148123,\n",
       " 148139,\n",
       " 148147,\n",
       " 148151,\n",
       " 148153,\n",
       " 148157,\n",
       " 148171,\n",
       " 148193,\n",
       " 148199,\n",
       " 148201,\n",
       " 151729,\n",
       " 151733,\n",
       " 151769,\n",
       " 151771,\n",
       " 151783,\n",
       " 151787,\n",
       " 151799,\n",
       " 151813,\n",
       " 151817,\n",
       " 151841,\n",
       " 155581,\n",
       " 155593,\n",
       " 155599,\n",
       " 155609,\n",
       " 155621,\n",
       " 155627,\n",
       " 155653,\n",
       " 155657,\n",
       " 155663,\n",
       " 155671,\n",
       " 159539,\n",
       " 159541,\n",
       " 159553,\n",
       " 159563,\n",
       " 159569,\n",
       " 159571,\n",
       " 159589,\n",
       " 159617,\n",
       " 159623,\n",
       " 159629,\n",
       " 163363,\n",
       " 163367,\n",
       " 163393,\n",
       " 163403,\n",
       " 163409,\n",
       " 163411,\n",
       " 163417,\n",
       " 163433,\n",
       " 163469,\n",
       " 163477,\n",
       " 167267,\n",
       " 167269,\n",
       " 167309,\n",
       " 167311,\n",
       " 167317,\n",
       " 167329,\n",
       " 167339,\n",
       " 167341,\n",
       " 167381,\n",
       " 167393,\n",
       " 171203,\n",
       " 171233,\n",
       " 171251,\n",
       " 171253,\n",
       " 171263,\n",
       " 171271,\n",
       " 171293,\n",
       " 171299,\n",
       " 171317,\n",
       " 171329,\n",
       " 175069,\n",
       " 175079,\n",
       " 175081,\n",
       " 175103,\n",
       " 175129,\n",
       " 175141,\n",
       " 175211,\n",
       " 175229,\n",
       " 175261,\n",
       " 175267,\n",
       " 178921,\n",
       " 178931,\n",
       " 178933,\n",
       " 178939,\n",
       " 178951,\n",
       " 178973,\n",
       " 178987,\n",
       " 179021,\n",
       " 179029,\n",
       " 179033,\n",
       " 182773,\n",
       " 182779,\n",
       " 182789,\n",
       " 182803,\n",
       " 182813,\n",
       " 182821,\n",
       " 182839,\n",
       " 182851,\n",
       " 182857,\n",
       " 182867,\n",
       " 186581,\n",
       " 186583,\n",
       " 186587,\n",
       " 186601,\n",
       " 186619,\n",
       " 186629,\n",
       " 186647,\n",
       " 186649,\n",
       " 186653,\n",
       " 186671,\n",
       " 190507,\n",
       " 190523,\n",
       " 190529,\n",
       " 190537,\n",
       " 190543,\n",
       " 190573,\n",
       " 190577,\n",
       " 190579,\n",
       " 190583,\n",
       " 190591,\n",
       " 194309,\n",
       " 194323,\n",
       " 194353,\n",
       " 194371,\n",
       " 194377,\n",
       " 194413,\n",
       " 194431,\n",
       " 194443,\n",
       " 194471,\n",
       " 194479,\n",
       " 198257,\n",
       " 198259,\n",
       " 198277,\n",
       " 198281,\n",
       " 198301,\n",
       " 198313,\n",
       " 198323,\n",
       " 198337,\n",
       " 198347,\n",
       " 198349,\n",
       " 202183,\n",
       " 202187,\n",
       " 202201,\n",
       " 202219,\n",
       " 202231,\n",
       " 202243,\n",
       " 202277,\n",
       " 202289,\n",
       " 202291,\n",
       " 202309,\n",
       " 206197,\n",
       " 206203,\n",
       " 206209,\n",
       " 206221,\n",
       " 206233,\n",
       " 206237,\n",
       " 206249,\n",
       " 206251,\n",
       " 206263,\n",
       " 206273,\n",
       " 209953,\n",
       " 209959,\n",
       " 209971,\n",
       " 209977,\n",
       " 209983,\n",
       " 209987,\n",
       " 210011,\n",
       " 210019,\n",
       " 210031,\n",
       " 210037,\n",
       " 213947,\n",
       " 213949,\n",
       " 213953,\n",
       " 213973,\n",
       " 213977,\n",
       " 213989,\n",
       " 214003,\n",
       " 214007,\n",
       " 214009,\n",
       " 214021,\n",
       " 217979,\n",
       " 217981,\n",
       " 218003,\n",
       " 218021,\n",
       " 218047,\n",
       " 218069,\n",
       " 218077,\n",
       " 218081,\n",
       " 218083,\n",
       " 218087,\n",
       " 221807,\n",
       " 221813,\n",
       " 221827,\n",
       " 221831,\n",
       " 221849,\n",
       " 221873,\n",
       " 221891,\n",
       " 221909,\n",
       " 221941,\n",
       " 221951,\n",
       " 225733,\n",
       " 225749,\n",
       " 225751,\n",
       " 225767,\n",
       " 225769,\n",
       " 225779,\n",
       " 225781,\n",
       " 225809,\n",
       " 225821,\n",
       " 225829,\n",
       " 229627,\n",
       " 229631,\n",
       " 229637,\n",
       " 229639,\n",
       " 229681,\n",
       " 229693,\n",
       " 229699,\n",
       " 229703,\n",
       " 229711,\n",
       " 229717,\n",
       " 233663,\n",
       " 233669,\n",
       " 233683,\n",
       " 233687,\n",
       " 233689,\n",
       " 233693,\n",
       " 233713,\n",
       " 233743,\n",
       " 233747,\n",
       " 233759,\n",
       " 237851,\n",
       " 237857,\n",
       " 237859,\n",
       " 237877,\n",
       " 237883,\n",
       " 237901,\n",
       " 237911,\n",
       " 237929,\n",
       " 237959,\n",
       " 237967,\n",
       " 241687,\n",
       " 241691,\n",
       " 241711,\n",
       " 241727,\n",
       " 241739,\n",
       " 241771,\n",
       " 241781,\n",
       " 241783,\n",
       " 241793,\n",
       " 241807,\n",
       " 245627,\n",
       " 245629,\n",
       " 245639,\n",
       " 245653,\n",
       " 245671,\n",
       " 245681,\n",
       " 245683,\n",
       " 245711,\n",
       " 245719,\n",
       " 245723,\n",
       " 249463,\n",
       " 249497,\n",
       " 249499,\n",
       " 249503,\n",
       " 249517,\n",
       " 249521,\n",
       " 249533,\n",
       " 249539,\n",
       " 249541,\n",
       " 249563,\n",
       " 253573,\n",
       " 253601,\n",
       " 253607,\n",
       " 253609,\n",
       " 253613,\n",
       " 253633,\n",
       " 253637,\n",
       " 253639,\n",
       " 253651,\n",
       " 253661,\n",
       " 257539,\n",
       " 257561,\n",
       " 257591,\n",
       " 257611,\n",
       " 257627,\n",
       " 257639,\n",
       " 257657,\n",
       " 257671,\n",
       " 257687,\n",
       " 257689,\n",
       " 261631,\n",
       " 261637,\n",
       " 261641,\n",
       " 261643,\n",
       " 261673,\n",
       " 261697,\n",
       " 261707,\n",
       " 261713,\n",
       " 261721,\n",
       " 261739,\n",
       " 265619,\n",
       " 265621,\n",
       " 265703,\n",
       " 265709,\n",
       " 265711,\n",
       " 265717,\n",
       " 265729,\n",
       " 265739,\n",
       " 265747,\n",
       " 265757,\n",
       " 269429,\n",
       " 269431,\n",
       " 269441,\n",
       " 269461,\n",
       " 269473,\n",
       " 269513,\n",
       " 269519,\n",
       " 269527,\n",
       " 269539,\n",
       " 269543,\n",
       " 273503,\n",
       " 273517,\n",
       " 273521,\n",
       " 273527,\n",
       " 273551,\n",
       " 273569,\n",
       " 273601,\n",
       " 273613,\n",
       " 273617,\n",
       " 273629,\n",
       " 277531,\n",
       " 277547,\n",
       " 277549,\n",
       " 277567,\n",
       " 277577,\n",
       " 277579,\n",
       " 277597,\n",
       " 277601,\n",
       " 277603,\n",
       " 277637,\n",
       " 281563,\n",
       " 281579,\n",
       " 281581,\n",
       " 281609,\n",
       " 281621,\n",
       " 281623,\n",
       " 281627,\n",
       " 281641,\n",
       " 281647,\n",
       " 281651,\n",
       " 285533,\n",
       " 285539,\n",
       " 285553,\n",
       " 285557,\n",
       " 285559,\n",
       " 285569,\n",
       " 285599,\n",
       " 285611,\n",
       " 285613,\n",
       " 285629,\n",
       " 289727,\n",
       " 289733,\n",
       " 289741,\n",
       " 289759,\n",
       " 289763,\n",
       " 289771,\n",
       " 289789,\n",
       " 289837,\n",
       " 289841,\n",
       " 289843,\n",
       " 293831,\n",
       " 293861,\n",
       " 293863,\n",
       " 293893,\n",
       " 293899,\n",
       " 293941,\n",
       " 293957,\n",
       " 293983,\n",
       " 293989,\n",
       " 293999,\n",
       " 297953,\n",
       " 297967,\n",
       " 297971,\n",
       " 297989,\n",
       " 297991,\n",
       " 298013,\n",
       " 298021,\n",
       " 298031,\n",
       " 298043,\n",
       " 298049,\n",
       " 301991,\n",
       " 301993,\n",
       " 301997,\n",
       " 301999,\n",
       " 302009,\n",
       " 302053,\n",
       " 302111,\n",
       " 302123,\n",
       " 302143,\n",
       " 302167,\n",
       " 305867,\n",
       " 305873,\n",
       " 305917,\n",
       " 305927,\n",
       " 305933,\n",
       " 305947,\n",
       " 305971,\n",
       " 305999,\n",
       " 306011,\n",
       " 306023,\n",
       " 310021,\n",
       " 310027,\n",
       " 310043,\n",
       " 310049,\n",
       " 310081,\n",
       " 310087,\n",
       " 310091,\n",
       " 310111,\n",
       " 310117,\n",
       " 310127,\n",
       " 314021,\n",
       " 314059,\n",
       " 314063,\n",
       " 314077,\n",
       " 314107,\n",
       " 314113,\n",
       " 314117,\n",
       " 314129,\n",
       " 314137,\n",
       " 314159,\n",
       " 318001,\n",
       " 318007,\n",
       " 318023,\n",
       " 318077,\n",
       " 318103,\n",
       " 318107,\n",
       " 318127,\n",
       " 318137,\n",
       " 318161,\n",
       " 318173,\n",
       " 321911,\n",
       " 321947,\n",
       " 321949,\n",
       " 321961,\n",
       " 321983,\n",
       " 321991,\n",
       " 322001,\n",
       " 322009,\n",
       " 322013,\n",
       " 322037,\n",
       " 325891,\n",
       " 325901,\n",
       " 325921,\n",
       " 325939,\n",
       " 325943,\n",
       " 325951,\n",
       " 325957,\n",
       " 325987,\n",
       " 325993,\n",
       " 325999,\n",
       " 329977,\n",
       " 329993,\n",
       " 329999,\n",
       " 330017,\n",
       " 330019,\n",
       " 330037,\n",
       " 330041,\n",
       " 330047,\n",
       " 330053,\n",
       " 330061,\n",
       " 334043,\n",
       " 334049,\n",
       " 334057,\n",
       " 334069,\n",
       " 334093,\n",
       " 334099,\n",
       " 334127,\n",
       " 334133,\n",
       " 334157,\n",
       " 334171,\n",
       " 338137,\n",
       " 338141,\n",
       " 338153,\n",
       " 338159,\n",
       " 338161,\n",
       " 338167,\n",
       " 338171,\n",
       " 338183,\n",
       " 338197,\n",
       " 338203,\n",
       " 342233,\n",
       " 342239,\n",
       " 342241,\n",
       " 342257,\n",
       " 342281,\n",
       " 342283,\n",
       " 342299,\n",
       " 342319,\n",
       " 342337,\n",
       " 342341,\n",
       " 346331,\n",
       " 346337,\n",
       " 346349,\n",
       " 346361,\n",
       " 346369,\n",
       " 346373,\n",
       " 346391,\n",
       " 346393,\n",
       " 346397,\n",
       " 346399,\n",
       " 350411,\n",
       " 350423,\n",
       " 350429,\n",
       " 350431,\n",
       " 350437,\n",
       " 350443,\n",
       " 350447,\n",
       " 350453,\n",
       " 350459,\n",
       " 350503,\n",
       " 354329,\n",
       " 354337,\n",
       " 354353,\n",
       " 354371,\n",
       " 354373,\n",
       " 354377,\n",
       " 354383,\n",
       " 354391,\n",
       " 354401,\n",
       " 354421,\n",
       " 358499,\n",
       " 358531,\n",
       " 358541,\n",
       " 358571,\n",
       " 358573,\n",
       " 358591,\n",
       " 358597,\n",
       " 358601,\n",
       " 358607,\n",
       " 358613,\n",
       " 362743,\n",
       " 362749,\n",
       " 362753,\n",
       " 362759,\n",
       " 362801,\n",
       " 362851,\n",
       " 362863,\n",
       " 362867,\n",
       " 362897,\n",
       " 362903,\n",
       " 366733,\n",
       " 366787,\n",
       " 366791,\n",
       " 366811,\n",
       " 366829,\n",
       " 366841,\n",
       " 366851,\n",
       " 366853,\n",
       " 366859,\n",
       " 366869,\n",
       " 371141,\n",
       " 371143,\n",
       " 371153,\n",
       " 371177,\n",
       " 371179,\n",
       " 371191,\n",
       " 371213,\n",
       " 371227,\n",
       " 371233,\n",
       " 371237,\n",
       " 375163,\n",
       " 375169,\n",
       " 375203,\n",
       " 375209,\n",
       " 375223,\n",
       " 375227,\n",
       " 375233,\n",
       " 375247,\n",
       " 375251,\n",
       " 375253,\n",
       " ...]"
      ]
     },
     "execution_count": 12,
     "metadata": {},
     "output_type": "execute_result"
    }
   ],
   "source": [
    "prime_numbers_rdd.collect()"
   ]
  },
  {
   "cell_type": "code",
   "execution_count": 15,
   "metadata": {},
   "outputs": [
    {
     "name": "stdout",
     "output_type": "stream",
     "text": [
      "CPU times: total: 31.2 ms\n",
      "Wall time: 7.18 s\n"
     ]
    }
   ],
   "source": [
    "%%time\n",
    "prime_numbers_rdd.saveAsTextFile(path=prime_numbers_rdd_output_path)"
   ]
  },
  {
   "cell_type": "markdown",
   "metadata": {},
   "source": [
    "### Random"
   ]
  },
  {
   "cell_type": "code",
   "execution_count": 16,
   "metadata": {},
   "outputs": [],
   "source": [
    "numbers_random_file = \"input_data/numbers_random.txt\""
   ]
  },
  {
   "cell_type": "code",
   "execution_count": 17,
   "metadata": {},
   "outputs": [],
   "source": [
    "import random\n",
    "\n",
    "numbers_random = [random.randint(1,10000000) for _ in range(1,10000000)]\n",
    "\n",
    "with open(numbers_random_file,'w+') as file:\n",
    "    for number in numbers_random:\n",
    "        file.write(f\"{number}\\n\")"
   ]
  },
  {
   "cell_type": "code",
   "execution_count": 18,
   "metadata": {},
   "outputs": [],
   "source": [
    "numbers_random_rdd_output_path = \"output_data/prime_numbers_rdd_random.txt\""
   ]
  },
  {
   "cell_type": "code",
   "execution_count": 19,
   "metadata": {},
   "outputs": [],
   "source": [
    "numbers_rdd_random = sc.textFile(numbers_random_file)"
   ]
  },
  {
   "cell_type": "code",
   "execution_count": 20,
   "metadata": {},
   "outputs": [],
   "source": [
    "numbers_rdd_random = numbers_rdd_random.map(lambda x: int(x))"
   ]
  },
  {
   "cell_type": "code",
   "execution_count": 21,
   "metadata": {},
   "outputs": [],
   "source": [
    "prime_numbers_rdd_random = numbers_rdd_random.filter(is_prime)"
   ]
  },
  {
   "cell_type": "code",
   "execution_count": 22,
   "metadata": {},
   "outputs": [],
   "source": [
    "prime_numbers_rdd_random = prime_numbers_rdd_random.repartition(numPartitions=12)"
   ]
  },
  {
   "cell_type": "code",
   "execution_count": 23,
   "metadata": {},
   "outputs": [
    {
     "name": "stdout",
     "output_type": "stream",
     "text": [
      "CPU times: total: 0 ns\n",
      "Wall time: 31.6 s\n"
     ]
    },
    {
     "data": {
      "text/plain": [
       "[8805487,\n",
       " 363533,\n",
       " 9349091,\n",
       " 9176003,\n",
       " 7034653,\n",
       " 3358151,\n",
       " 4037767,\n",
       " 6173003,\n",
       " 1918363,\n",
       " 1395481]"
      ]
     },
     "execution_count": 23,
     "metadata": {},
     "output_type": "execute_result"
    }
   ],
   "source": [
    "%%time\n",
    "prime_numbers_rdd_random.take(10)"
   ]
  },
  {
   "cell_type": "code",
   "execution_count": 24,
   "metadata": {},
   "outputs": [
    {
     "name": "stdout",
     "output_type": "stream",
     "text": [
      "CPU times: total: 62.5 ms\n",
      "Wall time: 6.97 s\n"
     ]
    }
   ],
   "source": [
    "%%time\n",
    "prime_numbers_rdd_random.saveAsTextFile(numbers_random_rdd_output_path)"
   ]
  },
  {
   "cell_type": "markdown",
   "metadata": {},
   "source": [
    "## Exercise 2\n",
    "- Generate a text file of 10,000 lines, each line contains a pair of (key,value)\n",
    "- Calculate the average value for each key\n",
    "- Apply GroupByKey() and ReduceByKey() Functions"
   ]
  },
  {
   "cell_type": "markdown",
   "metadata": {},
   "source": [
    "### Generate text file with 10000"
   ]
  },
  {
   "cell_type": "code",
   "execution_count": 25,
   "metadata": {},
   "outputs": [],
   "source": [
    "import random\n",
    "\n",
    "textFile_path = \"input_data/textLine.txt\"\n",
    "\n",
    "with open(textFile_path, 'w+') as file:\n",
    "    for i in range(1, 10001):\n",
    "        key = random.randint(1, 100)\n",
    "        line = f\"{key}, this is line number {i}\\n\"\n",
    "        file.write(line)"
   ]
  },
  {
   "cell_type": "code",
   "execution_count": 26,
   "metadata": {},
   "outputs": [],
   "source": [
    "rdd = sc.textFile(textFile_path)"
   ]
  },
  {
   "cell_type": "code",
   "execution_count": 27,
   "metadata": {},
   "outputs": [
    {
     "data": {
      "text/plain": [
       "['49, this is line number 1',\n",
       " '10, this is line number 2',\n",
       " '39, this is line number 3',\n",
       " '86, this is line number 4',\n",
       " '69, this is line number 5']"
      ]
     },
     "execution_count": 27,
     "metadata": {},
     "output_type": "execute_result"
    }
   ],
   "source": [
    "rdd.take(5)"
   ]
  },
  {
   "cell_type": "code",
   "execution_count": 28,
   "metadata": {},
   "outputs": [],
   "source": [
    "def convert_to_key_value(value):\n",
    "    value = (int(value.split(',')[0].strip()), value.split(',')[1].strip())\n",
    "    return value\n",
    "\n",
    "def convert_to_key_lenValue(value):\n",
    "    value = (int(value.split(',')[0].strip()), len(value.split(',')[1].strip()))\n",
    "    return value"
   ]
  },
  {
   "cell_type": "code",
   "execution_count": 29,
   "metadata": {},
   "outputs": [],
   "source": [
    "key_value_rdd = rdd.map(convert_to_key_value)"
   ]
  },
  {
   "cell_type": "code",
   "execution_count": 30,
   "metadata": {},
   "outputs": [],
   "source": [
    "key_lenValue_rdd = rdd.map(convert_to_key_lenValue)"
   ]
  },
  {
   "cell_type": "code",
   "execution_count": 31,
   "metadata": {},
   "outputs": [
    {
     "data": {
      "text/plain": [
       "[(49, 21), (10, 21), (39, 21), (86, 21), (69, 21)]"
      ]
     },
     "execution_count": 31,
     "metadata": {},
     "output_type": "execute_result"
    }
   ],
   "source": [
    "key_lenValue_rdd.take(5)"
   ]
  },
  {
   "cell_type": "markdown",
   "metadata": {},
   "source": [
    "### Group by key"
   ]
  },
  {
   "cell_type": "code",
   "execution_count": 32,
   "metadata": {},
   "outputs": [],
   "source": [
    "def sum_count(value):\n",
    "    value = (sum(value) , len(value))\n",
    "    return value\n",
    "\n",
    "def avg_cal_groupByKey(value):\n",
    "    value = value[0] / value[1]\n",
    "    return value"
   ]
  },
  {
   "cell_type": "code",
   "execution_count": 33,
   "metadata": {},
   "outputs": [
    {
     "name": "stdout",
     "output_type": "stream",
     "text": [
      "CPU times: total: 31.2 ms\n",
      "Wall time: 1.9 s\n"
     ]
    },
    {
     "data": {
      "text/plain": [
       "[(10, 23.86868686868687),\n",
       " (86, 23.846153846153847),\n",
       " (18, 23.8018018018018),\n",
       " (82, 23.852631578947367),\n",
       " (50, 23.855555555555554)]"
      ]
     },
     "execution_count": 33,
     "metadata": {},
     "output_type": "execute_result"
    }
   ],
   "source": [
    "%%time\n",
    "\n",
    "grouped_rdd = key_lenValue_rdd.groupByKey()\n",
    "\n",
    "sum_count_rdd = grouped_rdd.mapValues(sum_count)\n",
    "\n",
    "avg_rdd_groupByKey = sum_count_rdd.mapValues(avg_cal_groupByKey)\n",
    "\n",
    "avg_rdd_groupByKey.take(5)"
   ]
  },
  {
   "cell_type": "code",
   "execution_count": 34,
   "metadata": {},
   "outputs": [
    {
     "name": "stdout",
     "output_type": "stream",
     "text": [
      "CPU times: total: 0 ns\n",
      "Wall time: 625 ms\n"
     ]
    },
    {
     "data": {
      "text/plain": [
       "[(10, (2363, 99)),\n",
       " (86, (2480, 104)),\n",
       " (18, (2642, 111)),\n",
       " (82, (2266, 95)),\n",
       " (50, (2147, 90))]"
      ]
     },
     "execution_count": 34,
     "metadata": {},
     "output_type": "execute_result"
    }
   ],
   "source": [
    "%%time\n",
    "sum_count_rdd.take(5)"
   ]
  },
  {
   "cell_type": "code",
   "execution_count": 35,
   "metadata": {},
   "outputs": [
    {
     "name": "stdout",
     "output_type": "stream",
     "text": [
      "CPU times: total: 0 ns\n",
      "Wall time: 631 ms\n"
     ]
    },
    {
     "data": {
      "text/plain": [
       "[(10, 23.86868686868687),\n",
       " (86, 23.846153846153847),\n",
       " (18, 23.8018018018018),\n",
       " (82, 23.852631578947367),\n",
       " (50, 23.855555555555554)]"
      ]
     },
     "execution_count": 35,
     "metadata": {},
     "output_type": "execute_result"
    }
   ],
   "source": [
    "%%time\n",
    "avg_rdd_groupByKey.take(5)"
   ]
  },
  {
   "cell_type": "code",
   "execution_count": 36,
   "metadata": {},
   "outputs": [],
   "source": [
    "avg_groupByKey_output_path = \"output_data/avg_groupByKey.txt\""
   ]
  },
  {
   "cell_type": "code",
   "execution_count": 37,
   "metadata": {},
   "outputs": [],
   "source": [
    "avg_rdd_groupByKey.saveAsTextFile(path=avg_groupByKey_output_path)"
   ]
  },
  {
   "cell_type": "markdown",
   "metadata": {},
   "source": [
    "### Reduce by key"
   ]
  },
  {
   "cell_type": "code",
   "execution_count": 38,
   "metadata": {},
   "outputs": [],
   "source": [
    "def value_and_count(value):\n",
    "    value = (value,1)\n",
    "    return value\n",
    "\n",
    "def sum_lenValue(value_1,value_2):\n",
    "    value_1,value_2  =(value_1[0] + value_2[0], value_1[1] + value_2[1])\n",
    "    return value_1,value_2\n",
    "\n",
    "def avg_cal_reduceByKey(value):\n",
    "    value = value[0] / value[1]\n",
    "    return value"
   ]
  },
  {
   "cell_type": "code",
   "execution_count": 39,
   "metadata": {},
   "outputs": [
    {
     "name": "stdout",
     "output_type": "stream",
     "text": [
      "CPU times: total: 0 ns\n",
      "Wall time: 1.88 s\n"
     ]
    },
    {
     "data": {
      "text/plain": [
       "[(10, 23.86868686868687),\n",
       " (86, 23.846153846153847),\n",
       " (18, 23.8018018018018),\n",
       " (82, 23.852631578947367),\n",
       " (50, 23.855555555555554)]"
      ]
     },
     "execution_count": 39,
     "metadata": {},
     "output_type": "execute_result"
    }
   ],
   "source": [
    "%%time\n",
    "sum_count_rdd = key_lenValue_rdd.mapValues(value_and_count) \\\n",
    "                                .reduceByKey(sum_lenValue)\n",
    "\n",
    "avg_rdd_reduceByKey = sum_count_rdd.mapValues(avg_cal_reduceByKey)\n",
    "\n",
    "avg_rdd_reduceByKey.take(5)"
   ]
  },
  {
   "cell_type": "code",
   "execution_count": 40,
   "metadata": {},
   "outputs": [
    {
     "name": "stdout",
     "output_type": "stream",
     "text": [
      "CPU times: total: 0 ns\n",
      "Wall time: 672 ms\n"
     ]
    },
    {
     "data": {
      "text/plain": [
       "[(10, (2363, 99)),\n",
       " (86, (2480, 104)),\n",
       " (18, (2642, 111)),\n",
       " (82, (2266, 95)),\n",
       " (50, (2147, 90))]"
      ]
     },
     "execution_count": 40,
     "metadata": {},
     "output_type": "execute_result"
    }
   ],
   "source": [
    "%%time\n",
    "sum_count_rdd.take(5)"
   ]
  },
  {
   "cell_type": "code",
   "execution_count": 41,
   "metadata": {},
   "outputs": [
    {
     "name": "stdout",
     "output_type": "stream",
     "text": [
      "CPU times: total: 15.6 ms\n",
      "Wall time: 643 ms\n"
     ]
    },
    {
     "data": {
      "text/plain": [
       "[(10, 23.86868686868687),\n",
       " (86, 23.846153846153847),\n",
       " (18, 23.8018018018018),\n",
       " (82, 23.852631578947367),\n",
       " (50, 23.855555555555554)]"
      ]
     },
     "execution_count": 41,
     "metadata": {},
     "output_type": "execute_result"
    }
   ],
   "source": [
    "%%time\n",
    "avg_rdd_reduceByKey.take(5)"
   ]
  },
  {
   "cell_type": "code",
   "execution_count": 42,
   "metadata": {},
   "outputs": [],
   "source": [
    "avg_reduceByKey_output_path = \"output_data/avg_reduceByKey.txt\""
   ]
  },
  {
   "cell_type": "code",
   "execution_count": 43,
   "metadata": {},
   "outputs": [],
   "source": [
    "avg_rdd_reduceByKey.saveAsTextFile(path=avg_reduceByKey_output_path)"
   ]
  },
  {
   "cell_type": "markdown",
   "metadata": {},
   "source": [
    "# Join and Filter"
   ]
  },
  {
   "cell_type": "code",
   "execution_count": null,
   "metadata": {},
   "outputs": [],
   "source": [
    "import time\n",
    "RDD_A = sc.parallelize([(1, -1), (2, 20), (3, 3), (4, 0), (5, -12)])\n",
    "RDD_B = sc.parallelize([(1, 31), (2, 3), (3, 0), (4, -2), (5, 17)])\n",
    "\n",
    "# Convert RDDs to key-value pairs\n",
    "RDD_A = RDD_A.map(lambda x: (x[0], x[1]))\n",
    "RDD_B = RDD_B.map(lambda x: (x[0], x[1]))\n",
    "\n",
    "# Approach 1: Join then Filter\n",
    "start_time = time.time()\n",
    "\n",
    "# Join the RDDs\n",
    "joined_RDD = RDD_A.join(RDD_B)\n",
    "\n",
    "# Filter the joined RDD\n",
    "result_RDD_1 = joined_RDD.filter(lambda x: x[1][0] <= 0 and x[1][1] > 5)\n",
    "\n",
    "# Collect and print the result\n",
    "result_1 = result_RDD_1.collect()\n",
    "end_time = time.time()\n",
    "approach_1_time = end_time - start_time\n",
    "print(\"Approach 1 result:\", result_1)\n",
    "print(\"Approach 1 time:\", approach_1_time)"
   ]
  },
  {
   "cell_type": "markdown",
   "metadata": {},
   "source": [
    "# Filter and Join"
   ]
  },
  {
   "cell_type": "code",
   "execution_count": null,
   "metadata": {},
   "outputs": [],
   "source": [
    "# Filter RDD_A\n",
    "filtered_RDD_A = RDD_A.filter(lambda x: x[1] <= 0)\n",
    "\n",
    "# Filter RDD_B\n",
    "filtered_RDD_B = RDD_B.filter(lambda x: x[1] > 5)\n",
    "\n",
    "# Join the filtered RDDs\n",
    "result_RDD_2 = filtered_RDD_A.join(filtered_RDD_B)\n",
    "\n",
    "# Collect and print the result\n",
    "result_2 = result_RDD_2.collect()\n",
    "end_time = time.time()\n",
    "approach_2_time = end_time - start_time\n",
    "print(\"Approach 2 result:\", result_2)\n",
    "print(\"Approach 2 time:\", approach_2_time)"
   ]
  },
  {
   "cell_type": "code",
   "execution_count": null,
   "metadata": {},
   "outputs": [],
   "source": [
    "# Print comparison\n",
    "print(\"\\nPerformance Comparison:\")\n",
    "print(f\"Approach 1 time: {approach_1_time:.4f} seconds\")\n",
    "print(f\"Approach 2 time: {approach_2_time:.4f} seconds\")\n",
    "if approach_1_time < approach_2_time:\n",
    "    print(\"Approach 1 is faster.\")\n",
    "else:\n",
    "    print(\"Approach 2 is faster.\")"
   ]
  }
 ],
 "metadata": {
  "kernelspec": {
   "display_name": "Python 3",
   "language": "python",
   "name": "python3"
  },
  "language_info": {
   "codemirror_mode": {
    "name": "ipython",
    "version": 3
   },
   "file_extension": ".py",
   "mimetype": "text/x-python",
   "name": "python",
   "nbconvert_exporter": "python",
   "pygments_lexer": "ipython3",
   "version": "3.10.9"
  }
 },
 "nbformat": 4,
 "nbformat_minor": 2
}
